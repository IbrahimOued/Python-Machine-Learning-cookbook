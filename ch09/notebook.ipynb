{
 "cells": [
  {
   "cell_type": "markdown",
   "metadata": {},
   "source": [
    "### Dissecting Time Series and Sequential data"
   ]
  },
  {
   "cell_type": "markdown",
   "metadata": {},
   "source": [
    "#### Introduction to time series"
   ]
  },
  {
   "cell_type": "markdown",
   "metadata": {},
   "source": [
    "Time series data is basically a sequence of measurements that are collected over time. These measurements are taken with respect to a predetermined variable and at regular time intervals. One of the main characteristics of time series data is that the ordering matters!\n",
    "\n",
    "The list of observations that we collect is ordered on a timeline, and the order in which they appear says a lot about underlying patterns. If you change the order, this would totally change the meaning of the data. Sequential data is a generalized notion that encompasses any data that comes in a sequential form, including time series data.\n",
    "\n",
    "Our objective here is to build a model that describes the pattern of the time series or any sequence in general. Such models are used to describe important features of the time series pattern. We can use these models to explain how the past might affect the future. We can also use them to see how two datasets can be correlated, to forecast future values, or to control a given variable that is based on some metric.\n",
    "\n",
    "To visualize time series data, we tend to plot it using line charts or bar graphs. Time series data analysis is frequently used in finance, signal processing, weather prediction, trajectory forecasting, predicting earthquakes, or any field where we have to deal with temporal data. The models that we build in time series and sequential data analysis should take into account the ordering of data and extract the relationships among neighbors. Let's go ahead and check out a few recipes to analyze time series and sequential data in Python."
   ]
  },
  {
   "cell_type": "markdown",
   "metadata": {},
   "source": [
    "#### Transforming data into a time series format"
   ]
  },
  {
   "cell_type": "markdown",
   "metadata": {},
   "source": [
    "A time series constitues a sequence of observations of a phenomenon that's carried out in consecutive instants over time intevals that are usually, even if not necessarimy, evenly spaced or of the same length. It follows that time is a fundamental parameter in the analysis of a time series. To start, we must therefore acquire a certain confidence in manipulating data that represents a long-term observation of a certain phenomenon."
   ]
  },
  {
   "cell_type": "markdown",
   "metadata": {},
   "source": [
    "##### Getting started\n",
    "We will start by understanding how to convert a sequence of observations into time series data and visualize it. We will use a library called pandas to analyze time series data. Make sure that you install pandas before you proceed further. You can find the installation instructions for pandas at the following link: http://pandas.pydata.org/pandas-docs/stable/install.html."
   ]
  },
  {
   "cell_type": "markdown",
   "metadata": {},
   "source": [
    "##### How it works\n",
    "In this recipe, we learned how to convert a sequence of observations into time series data and display it. To do this, we first loaded the input file in a .txt format, so we extracted the start and end dates. Then, we created a sequence of dates with monthly intervals and converted the data into time series data. Finally, we plotted the time series data."
   ]
  },
  {
   "cell_type": "markdown",
   "metadata": {},
   "source": [
    "##### There's more\n",
    "The *pandas* library is particularly suitable for working with time series data for all domains, thanks to the extensive capabilities and features it has. These features take advantage of the NumPy datetime64 and timedelta64 variables, and a large number of functionality from other Python libraries such as `scikits.timeseries`. These features have made pandas particularly efficient for manipulating time series data."
   ]
  },
  {
   "cell_type": "markdown",
   "metadata": {},
   "source": [
    "#### Slicing time series data"
   ]
  },
  {
   "cell_type": "markdown",
   "metadata": {},
   "source": [
    "**Slice and dice** are two terms that refer to a dataset meaning **to divide a large DataFrame into smaller parts or examine them from different points of view to understand it better**. The term comes from culinary jargon and describes two types of knife skills that every chef has to master. To slice means to cut, while to dice means to cut food into very small and uniform sections, and the two actions are often performed in sequence. In data analysis, the term slice and dice generally involves a systematic reduction of a large dataset into smaller parts to extract more information."
   ]
  },
  {
   "cell_type": "markdown",
   "metadata": {},
   "source": [
    "##### Getting ready\n",
    "We will learn how to slice time series data. This will hep you extract information from various intervals in the time series data. We will learn how to use dates to handle subsets of our data"
   ]
  },
  {
   "cell_type": "markdown",
   "metadata": {},
   "source": [
    "##### How to do it\n",
    "Let's see how we can perform slicing time series data. We will be working in the `slicing_data.py` file"
   ]
  },
  {
   "cell_type": "markdown",
   "metadata": {},
   "source": [
    "##### How it works\n",
    "We learned how to break up time series data. First, we imported the data contained in a .txt file. This data was transformed into a time series format using a function that we defined in the previous recipe. Thus, we have plotted the data, first within a certain period of years, and then within a certain range of dates"
   ]
  },
  {
   "cell_type": "markdown",
   "metadata": {},
   "source": [
    "##### There's more\n",
    "To transform data into a time series format, the pandas library was used. This library is particularly efficient for manipulating time series data."
   ]
  },
  {
   "cell_type": "markdown",
   "metadata": {},
   "source": [
    "#### Operatin on time series data"
   ]
  },
  {
   "cell_type": "markdown",
   "metadata": {},
   "source": [
    "Now that we know how to slice data and extract various subsets, let's discuss how to operate on time series data. You can filter the data in many different ways. The pandas library allows you to operate on time series data in any way you want"
   ]
  },
  {
   "cell_type": "markdown",
   "metadata": {},
   "source": [
    "##### Getting ready"
   ]
  },
  {
   "cell_type": "markdown",
   "metadata": {},
   "source": [
    "We will use data contained in a txt file and load it. Then we will filter the data using a certain threshold to extract only a portion of the starting dataset that metts specific requirements."
   ]
  },
  {
   "cell_type": "markdown",
   "metadata": {},
   "source": [
    "##### How to do it\n",
    "Let's see how to operate on time series data. We will be working in the `operating_on_data.py` file"
   ]
  },
  {
   "cell_type": "markdown",
   "metadata": {},
   "source": [
    "##### How it works\n",
    "we learned how to filter the data contained in a time series. First, we plotted the data between two years (from 1952 to 1955). Then, we plotted the difference between the data contained in two columns for a specific time interval (from 1952 to 1955). Finally, we plotted data using a certain threshold to extract only a portion of the starting dataset that meets specific requirements—in particular, when the first column is greater than 60 and when the second column is smaller than 20."
   ]
  },
  {
   "cell_type": "markdown",
   "metadata": {},
   "source": [
    "##### There's more\n",
    "To perform two-column filtering at the same time, the & operator was used. The & (and) operator is a logical operator (Boolean operator) of logical conjunction between two propositions. Given two propositions, A and B, the logical conjunction determines a third proposition, C, that manifests itself as true only when both propositions are true."
   ]
  },
  {
   "cell_type": "markdown",
   "metadata": {},
   "source": [
    "#### Extracting statistics from time series data"
   ]
  },
  {
   "cell_type": "markdown",
   "metadata": {},
   "source": [
    "One of the main reasons that we want to analyze time series data is to extract interesting statistics from it. This provides a lot of information regarding the nature of the data. "
   ]
  },
  {
   "cell_type": "markdown",
   "metadata": {},
   "source": [
    "##### Getting ready\n",
    "We will take a look at how to extract some statistics"
   ]
  },
  {
   "cell_type": "markdown",
   "metadata": {},
   "source": [
    "##### How to do it\n",
    "Let's see how wen can extract statistics from time series data. We will be working in the `extract_statistics.py` file"
   ]
  },
  {
   "cell_type": "markdown",
   "metadata": {},
   "source": [
    "##### How it works\n",
    "In this recipe, we learned how to extract some statistics. We started by calculating the minimum, maximum, and mean of each of the two columns that were extracted from the dataset. Then, we calculated the mean for each row for the first 10 rows of the DataFrame. Finally, we performed a correlation analysis between the two features."
   ]
  },
  {
   "cell_type": "markdown",
   "metadata": {},
   "source": [
    "##### There's more\n",
    "To perform a correlation analysis, the pandas.DataFrame.corr function was used. This function computes a pairwise correlation of columns, excluding N/A or null values. The following methods are available:\n",
    "\n",
    "* pearson: This is the standard correlation coefficient\n",
    "* kendall: This is the Kendall Tau correlation coefficient\n",
    "* spearman: This is the Spearman rank correlation coefficient"
   ]
  },
  {
   "cell_type": "markdown",
   "metadata": {},
   "source": [
    "#### Building HMMs for sequential data"
   ]
  },
  {
   "cell_type": "markdown",
   "metadata": {},
   "source": [
    "**Hidden Markov models (HMMs)** are particularly suitable for sequential data analysis problems. They are widely used in fields such as **speech analysis**, **finance**, **word sequencing**, **weather forecasting**, and so on.\n",
    "\n",
    "**Any source of data that produces a sequence of outputs can produce patterns**. Note that **HMMs are generative models, which means that they can generate the data once they learn the underlying structure**. HMMs cannot discriminate between classes in their base forms. This is in contrast to discriminative models that can learn to discriminate between classes but cannot generate data."
   ]
  },
  {
   "cell_type": "markdown",
   "metadata": {},
   "source": [
    "##### Getting ready\n",
    "Let's say that we want to predict whether the weather will be sunny, chilly, or rainy tomorrow. To do this, we look at all the parameters, such as temperature, pressure, and so on, whereas the underlying state is hidden. Here, the underlying state refers to the three available options: sunny, chilly, or rainy. "
   ]
  },
  {
   "cell_type": "markdown",
   "metadata": {},
   "source": [
    "##### How to do it\n",
    "Let's see how we can build HMMs for sequential data. We will use the `hmm.py` file"
   ]
  },
  {
   "cell_type": "markdown",
   "metadata": {},
   "source": [
    "##### How it works\n",
    "HMM is a model in which the system being modeled is assumed to be a Markov process with unobserved states. A stochastic process is called Markovian when, having chosen a certain instance of t for observation, the evolution of the process, starting with t, depends only on t and does not depend in any way on the previous instances. Thus, a process is Markovian when, given the moment of observation, only this instance determines the future evolution of the process, while this evolution does not depend on the past. In this recipe, we learned how to use HMMs to generate a time series. "
   ]
  },
  {
   "cell_type": "markdown",
   "metadata": {},
   "source": [
    "##### There's more\n",
    "In this recipe, we used hmmlearn to build and train HMMs, which implements the HMMs. A HMM is a generative probabilistic model, wherein a sequence of observable variables is computed using a sequence of hidden internal states. Hidden states are not observed directly.\n"
   ]
  },
  {
   "cell_type": "markdown",
   "metadata": {},
   "source": [
    "#### Building CRFs for sequential text data"
   ]
  },
  {
   "cell_type": "markdown",
   "metadata": {},
   "source": [
    "**Conditional random fields (CRFs)** are probabilistic models that are used to analyze structured data. They are frequently used to label and segment sequential data. CRFs are discriminative models as opposed to HMMs, which are generative models. **CRFs are used extensively to analyze sequences, stock, speech, words,** and so on. In these models, given a particular labeled observation sequence, we define a conditional probability distribution over this sequence. This is in contrast to HMMs, where we define a joint distribution over the label and the observed sequence."
   ]
  },
  {
   "cell_type": "markdown",
   "metadata": {},
   "source": [
    "##### Getting ready\n",
    "In this recipe, we will use a library called pystruct to build and train CRFs. Make sure that you install this before you proceed. You can find the installation instructions at https://pystruct.github.io/installation.html."
   ]
  },
  {
   "cell_type": "markdown",
   "metadata": {},
   "source": []
  }
 ],
 "metadata": {
  "interpreter": {
   "hash": "5426e2286ce2e419dfccc637b93561cd5b8316b00ac074413e19632050d39113"
  },
  "kernelspec": {
   "display_name": "Python 3.9.12 ('uvbf')",
   "language": "python",
   "name": "python3"
  },
  "language_info": {
   "name": "python",
   "version": "3.9.12"
  },
  "orig_nbformat": 4
 },
 "nbformat": 4,
 "nbformat_minor": 2
}
